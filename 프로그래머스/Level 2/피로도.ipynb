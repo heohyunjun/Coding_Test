{
  "nbformat": 4,
  "nbformat_minor": 0,
  "metadata": {
    "colab": {
      "name": "Untitled1.ipynb",
      "provenance": [],
      "authorship_tag": "ABX9TyNA9Zq2cDHzn/GmLIJEbEgw"
    },
    "kernelspec": {
      "name": "python3",
      "display_name": "Python 3"
    },
    "language_info": {
      "name": "python"
    }
  },
  "cells": [
    {
      "cell_type": "markdown",
      "source": [
        "# 피로도"
      ],
      "metadata": {
        "id": "AoD3fCdX39EM"
      }
    },
    {
      "cell_type": "markdown",
      "source": [
        "- XX게임에는 피로도 시스템(0 이상의 정수로 표현합니다)이 있으며, 일정 피로도를 사용해서 던전을 탐험할 수 있습니다\n",
        "\n",
        "- 이때, 각 던전마다 탐험을 시작하기 위해 필요한 \"최소 필요 피로도\"와 던전 탐험을 마쳤을 때 소모되는 \"소모 피로도\"가 있습니다.\n",
        "\n",
        "- 최소 필요 피로도\"는 해당 던전을 탐험하기 위해 가지고 있어야 하는 최소한의 피로도를 나타내며, \"소모 피로도\"는 던전을 탐험한 후 소모되는 피로도를 나타냅니다\n",
        "\n",
        "- 예를 들어 \"최소 필요 피로도\"가 80, \"소모 피로도\"가 20인 던전을 탐험하기 위해서는 유저의 현재 남은 피로도는 80 이상 이어야 하며, 던전을 탐험한 후에는 피로도 20이 소모됩니다.\n",
        "\n",
        "- 이 게임에는 하루에 한 번씩 탐험할 수 있는 던전이 여러개 있는데, 한 유저가 오늘 이 던전들을 최대한 많이 탐험하려 합니다. 유저의 현재 피로도 k와 각 던전별 \"최소 필요 피로도\", \"소모 피로도\"가 담긴 2차원 배열 dungeons 가 매개변수로 주어질 때, 유저가 탐험할수 있는 최대 던전 수를 return 하도록 solution 함수를 완성해주세요.\n",
        "\n"
      ],
      "metadata": {
        "id": "bYG79bRC4BJC"
      }
    },
    {
      "cell_type": "code",
      "source": [
        "K = 80\n",
        "dun =[\n",
        "      [80, 20],\n",
        "      [50, 40],\n",
        "      [30, 10]\n",
        "]"
      ],
      "metadata": {
        "id": "b2xbZXlH4Ava"
      },
      "execution_count": null,
      "outputs": []
    },
    {
      "cell_type": "code",
      "source": [
        "answer = 0\n",
        "N = 0\n",
        "visited = []\n",
        "\n",
        "\n",
        "def dfs(k, cnt, dungeons):\n",
        "    global answer\n",
        "    if cnt > answer:\n",
        "        answer = cnt\n",
        "\n",
        "    for j in range(N):\n",
        "        if k >= dungeons[j][0] and not visited[j]:\n",
        "            visited[j] = 1\n",
        "            dfs(k - dungeons[j][1], cnt + 1, dungeons)\n",
        "            visited[j] = 0\n",
        "\n",
        "\n",
        "def solution(k, dungeons):\n",
        "    global N, visited\n",
        "    N = len(dungeons)\n",
        "    visited = [0] * N\n",
        "    dfs(k, 0, dungeons)\n",
        "    return answer"
      ],
      "metadata": {
        "colab": {
          "base_uri": "https://localhost:8080/"
        },
        "id": "NHl7uqCE5rMv",
        "outputId": "8c187fdb-d72d-4d07-ff3d-ccd430e28843"
      },
      "execution_count": null,
      "outputs": [
        {
          "output_type": "stream",
          "name": "stdout",
          "text": [
            "1\n",
            "2\n",
            "80\n",
            "80\n"
          ]
        }
      ]
    }
  ]
}