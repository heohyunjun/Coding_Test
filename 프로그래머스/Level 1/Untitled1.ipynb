{
  "nbformat": 4,
  "nbformat_minor": 0,
  "metadata": {
    "colab": {
      "name": "Untitled1.ipynb",
      "provenance": [],
      "authorship_tag": "ABX9TyNVgH+mEYRD0lvbzz/7gTgT"
    },
    "kernelspec": {
      "name": "python3",
      "display_name": "Python 3"
    },
    "language_info": {
      "name": "python"
    }
  },
  "cells": [
    {
      "cell_type": "markdown",
      "metadata": {
        "id": "4DMxecuRj3vo"
      },
      "source": [
        "# 부족한 금액 계산하기"
      ]
    },
    {
      "cell_type": "markdown",
      "metadata": {
        "id": "qRdT3AvQj6ep"
      },
      "source": [
        "문제 설명\n",
        "\n",
        "- 새로 생긴 놀이기구는 인기가 매우 많아 줄이 끊이질 않습니다. 이 놀이기구의 원래 이용료는 price원 인데, 놀이기구를 N 번 째 이용한다면 원래 이용료의 N배를 받기로 하였습니다. 즉, 처음 이용료가 100이었다면 2번째에는 200, 3번째에는 300으로 요금이 인상됩니다.\n",
        "\n",
        "- 놀이기구를 count번 타게 되면 현재 자신이 가지고 있는 금액에서 얼마가 모자라는지를 return 하도록 solution 함수를 완성하세요.\n",
        "단, 금액이 부족하지 않으면 0을 return 하세요."
      ]
    },
    {
      "cell_type": "markdown",
      "metadata": {
        "id": "DKVbc4SVqpUD"
      },
      "source": [
        "![image.png](data:image/png;base64,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)"
      ]
    },
    {
      "cell_type": "code",
      "metadata": {
        "id": "zFQG36VMkWBF"
      },
      "source": [
        "price = 3\n",
        "money = 20\n",
        "count = 4"
      ],
      "execution_count": null,
      "outputs": []
    },
    {
      "cell_type": "code",
      "metadata": {
        "id": "gferzoftlsmD"
      },
      "source": [
        "def solution(price, money, count):\n",
        "    result = money - sum([price * (i+1) for i in range(count)])\n",
        "    if result < 0:\n",
        "        return -result\n",
        "    else:\n",
        "        return 0"
      ],
      "execution_count": null,
      "outputs": []
    },
    {
      "cell_type": "code",
      "metadata": {
        "colab": {
          "base_uri": "https://localhost:8080/"
        },
        "id": "ejlv3c9OmGBD",
        "outputId": "085fa673-545c-42ae-9c19-ddfff730d04c"
      },
      "source": [
        "solution(price, money, count)"
      ],
      "execution_count": null,
      "outputs": [
        {
          "output_type": "execute_result",
          "data": {
            "text/plain": [
              "10"
            ]
          },
          "metadata": {},
          "execution_count": 14
        }
      ]
    }
  ]
}