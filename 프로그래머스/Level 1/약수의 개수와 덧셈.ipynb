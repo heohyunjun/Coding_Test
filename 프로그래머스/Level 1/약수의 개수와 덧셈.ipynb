{
  "nbformat": 4,
  "nbformat_minor": 0,
  "metadata": {
    "colab": {
      "name": "Untitled1.ipynb",
      "provenance": []
    },
    "kernelspec": {
      "name": "python3",
      "display_name": "Python 3"
    },
    "language_info": {
      "name": "python"
    }
  },
  "cells": [
    {
      "cell_type": "markdown",
      "source": [
        "# 약수의 개수와 덧셈"
      ],
      "metadata": {
        "id": "pn63NR7AA1jQ"
      }
    },
    {
      "cell_type": "markdown",
      "source": [
        "문제 설명\n",
        "\n",
        "- 두 정수 left와 right가 매개변수로 주어집니다. \n",
        "\n",
        "- left부터 right까지의 모든 수들 중에서, 약수의 개수가 짝수인 수는 더하고, 약수의 개수가 홀수인 수는 뺀 수를 return 하도록 solution 함수를 완성해주세요."
      ],
      "metadata": {
        "id": "OPTBIPQjJqRB"
      }
    },
    {
      "cell_type": "markdown",
      "source": [
        "![image.png](data:image/png;base64,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)"
      ],
      "metadata": {
        "id": "OVT04aH2Jx-9"
      }
    },
    {
      "cell_type": "code",
      "source": [
        "# sol1\n",
        "def solution(left, right):\n",
        "    n = 0\n",
        "    for i in range(left, right+1):\n",
        "        a= 0\n",
        "        for j in range(1,i+1):\n",
        "            if i%j ==0:\n",
        "                a+=1\n",
        "        if a%2 == 0:\n",
        "            n +=i\n",
        "        else:\n",
        "            n -=i\n",
        "    return n"
      ],
      "metadata": {
        "id": "utfWxhd1A3QH"
      },
      "execution_count": null,
      "outputs": []
    },
    {
      "cell_type": "code",
      "source": [
        "# sol2\n",
        "def solution(left, right):\n",
        "    answer = 0\n",
        "    for i in range(left,right+1):\n",
        "        if int(i**0.5)==i**0.5:\n",
        "            answer -= i\n",
        "        else:\n",
        "            answer += i\n",
        "    return answer\n"
      ],
      "metadata": {
        "id": "S9EPww5CEgLr"
      },
      "execution_count": null,
      "outputs": []
    }
  ]
}