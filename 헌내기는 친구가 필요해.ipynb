{
  "nbformat": 4,
  "nbformat_minor": 0,
  "metadata": {
    "colab": {
      "name": "Untitled1.ipynb",
      "provenance": [],
      "authorship_tag": "ABX9TyMr2ZrkxadPtcWjgpxg/w5a"
    },
    "kernelspec": {
      "name": "python3",
      "display_name": "Python 3"
    },
    "language_info": {
      "name": "python"
    }
  },
  "cells": [
    {
      "cell_type": "code",
      "source": [
        "from collections import deque\n",
        "\n",
        "n, m = map(int, input().split()) # 캠퍼스 크기 입력 받음\n",
        "map_ = [list(input()) for _ in range(n)] # 캠퍼스 정보 입력 받음\n",
        "visited = [[0]*m for _ in range(n)] # 방문 확인을 위한 변수 선언\n",
        "\n",
        "def bfs(x, y):\n",
        "  cnt = 0 # 방문 횟수\n",
        "  q = deque() # 큐 선언\n",
        "  visited[x][y] = 1 # 도연이가 있는 위치를 방문 처리\n",
        "  q.append((x, y)) # 큐에 추가\n",
        "  \n",
        "  while q:\n",
        "      x, y = q.popleft()\n",
        "      for dx, dy in [(1, 0), (0, 1), (-1, 0), (0, -1)]:\n",
        "          # 도연이 이동 좌표\n",
        "          nx, ny = x + dx, y + dy \n",
        "\n",
        "          # 도연이 이동 좌표가 맵안에서 처음 방문한곳을 체크\n",
        "          if 0 <= nx < n and 0 <= ny < m and visited[nx][ny] == 0:\n",
        "              if map_[nx][ny] != 'X':\n",
        "                  q.append((nx, ny))\n",
        "                  visited[nx][ny] = 1\n",
        "                  if map_[nx][ny] == 'P':\n",
        "                      cnt += 1\n",
        "  return cnt                        \n",
        "for i in range(n):\n",
        "    for j in range(m):\n",
        "        if map_[i][j] == 'I':\n",
        "            cnt = bfs(i, j)\n",
        "if cnt != 0:\n",
        "    print(cnt)\n",
        "else:\n",
        "    print('TT')"
      ],
      "metadata": {
        "colab": {
          "base_uri": "https://localhost:8080/"
        },
        "id": "jzZm7p5utrtO",
        "outputId": "f368bd78-1741-404a-c517-3ce6d6649103"
      },
      "execution_count": null,
      "outputs": [
        {
          "output_type": "stream",
          "name": "stdout",
          "text": [
            "3 5\n",
            "OOOPO\n",
            "OIOOX\n",
            "OOOXP\n",
            "1\n"
          ]
        }
      ]
    }
  ]
}